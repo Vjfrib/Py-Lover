{
 "cells": [
  {
   "cell_type": "markdown",
   "metadata": {},
   "source": [
    "Vamos tentar fazer algumas implemntações de...\n",
    "\n",
    "# Grafos\n",
    "\n",
    "são infomaçõs graficas que guardam\n",
    "\n",
    "- Vértices (end-points, como cidades)\n",
    "- Arestas (ligações, como caminhos)"
   ]
  },
  {
   "cell_type": "markdown",
   "metadata": {},
   "source": [
    "# Tipos de Arestas\n",
    "um grafo, basicamente pode ter diferenças, nas sas arstas como:\n",
    "\n",
    "- Direcionais \n",
    "    Tem um sentido. \n",
    "    > De 1 para 3 é diferente de \"De 3 para 1\"\n",
    "\n",
    "- Ponderado\n",
    "    tem uma distância quantitativa.\n",
    "    > alguns, \"De 3 para 1\" é somente true ou false. outros são distâncias como \"De 3 para 1\" = 53"
   ]
  }
 ],
 "metadata": {
  "language_info": {
   "name": "python"
  }
 },
 "nbformat": 4,
 "nbformat_minor": 2
}
