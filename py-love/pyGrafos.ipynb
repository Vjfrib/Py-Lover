{
 "cells": [
  {
   "cell_type": "markdown",
   "metadata": {},
   "source": [
    "Vamos tentar fazer algumas implemntações de...\n",
    "\n",
    "# Grafos\n",
    "\n",
    "são infomaçõs graficas que guardam\n",
    "\n",
    "- Vértices (end-points, como cidades)\n",
    "- Arestas (ligações, como caminhos)"
   ]
  },
  {
   "cell_type": "markdown",
   "metadata": {},
   "source": [
    "# Tipos de Arestas\n",
    "um grafo, basicamente pode ter diferenças, nas sas arstas como:\n",
    "\n",
    "- Direcionais \n",
    "    Tem um sentido. \n",
    "    > De 1 para 3 é diferente de \"De 3 para 1\"\n",
    "\n",
    "- Ponderado\n",
    "    tem uma distância quantitativa.\n",
    "    > alguns, \"De 3 para 1\" é somente true ou false. outros são distâncias como \"De 3 para 1\" = 53\n",
    "\n",
    "Exemplo:\n",
    "\n",
    "<img src = https://raw.githubusercontent.com/Vjfrib/Py-Lover/c1fb5f4ef3b96b0336c7898eb47ad15e75303867/assets/Grafo0.drawio.svg>\n",
    "\n",
    "<!-- \n",
    "![../assets/arestas.png]\n",
    "\n",
    "![Descrição Opcional](../assets/arestas.png)\n",
    "\n",
    "%%%%%<img src=\"https://raw.githubusercontent.com/Vjfrib/Py-Lover/c1fb5f4ef3b96b0336c7898eb47ad15e75303867/assets/Grafo0.drawio.svg\" alt=\"Descrição Opcional\">\n",
    "%%%%%\n",
    "-->\n"
   ]
  },
  {
   "attachments": {
    "image.png": {
     "image/png": "[encoded data removed]"
    }
   },
   "cell_type": "markdown",
   "metadata": {},
   "source": [
    "# Representação de um Grafo\n",
    "\n",
    "tendo um grafo $G(V,A)$, podemos representálo como uma matriz de suas adjacencias / intersessões\n",
    "\n",
    "<img src = https://raw.githubusercontent.com/Vjfrib/Py-Lover/5a74bed264693a635b0bc1a7ec50f6b3f0d2d77a/assets/grafo%202.drawio.svg>\n",
    "\n",
    "_Grafo 2_\n",
    "\n",
    "![image.png](attachment:image.png)\n",
    "_Matriz com as adjacências das arestas do Grafo 2_\n",
    "\n",
    "> Note que em \"De 1 para 4\" é true, mas \"De 4 para 1\" não é!"
   ]
  },
  {
   "cell_type": "code",
   "execution_count": 3,
   "metadata": {},
   "outputs": [
    {
     "name": "stdout",
     "output_type": "stream",
     "text": [
      "Matriz de Adjacencia do grafo\n",
      "[[0 1 0 1 0 0 0 0 0 0]\n",
      " [0 0 0 0 0 0 0 0 0 0]\n",
      " [0 0 0 0 0 1 0 0 0 0]\n",
      " [0 0 1 0 0 0 0 0 0 0]\n",
      " [0 0 0 0 0 0 0 0 0 0]\n",
      " [0 0 0 0 0 0 1 0 1 0]\n",
      " [0 0 0 0 0 0 0 0 0 0]\n",
      " [0 0 0 0 0 0 0 0 0 1]\n",
      " [0 0 0 0 0 0 0 0 0 0]\n",
      " [0 0 0 0 0 0 0 0 0 0]]\n"
     ]
    }
   ],
   "source": [
    "import numpy as np\n",
    "\n",
    "# Criando uma matriz mista de zeros e uns 4x4\n",
    "matrizAdjGrafo1 = np.array([[0, 1, 0, 1, 0, 0, 0, 0, 0, 0],\n",
    "                            [0, 0, 0, 0, 0, 0, 0, 0, 0, 0],\n",
    "                            [0, 0, 0, 0, 0, 1, 0, 0, 0, 0],\n",
    "                            [0, 0, 1, 0, 0, 0, 0, 0, 0, 0],\n",
    "                            [0, 0, 0, 0, 0, 0, 0, 0, 0, 0],\n",
    "                            [0, 0, 0, 0, 0, 0, 1, 0, 1, 0],\n",
    "                            [0, 0, 0, 0, 0, 0, 0, 0, 0, 0],\n",
    "                            [0, 0, 0, 0, 0, 0, 0, 0, 0, 1],\n",
    "                            [0, 0, 0, 0, 0, 0, 0, 0, 0, 0],\n",
    "                            [0, 0, 0, 0, 0, 0, 0, 0, 0, 0]])\n",
    "\n",
    "print(\"Matriz de Adjacencia do grafo\")\n",
    "print(matrizAdjGrafo1)\n"
   ]
  },
  {
   "cell_type": "code",
   "execution_count": 4,
   "metadata": {},
   "outputs": [
    {
     "name": "stdout",
     "output_type": "stream",
     "text": [
      "Requirement already satisfied: numpy in c:\\users\\vjfr\\appdata\\local\\packages\\pythonsoftwarefoundation.python.3.11_qbz5n2kfra8p0\\localcache\\local-packages\\python311\\site-packages (1.25.0)\n"
     ]
    },
    {
     "name": "stderr",
     "output_type": "stream",
     "text": [
      "\n",
      "[notice] A new release of pip is available: 23.2.1 -> 23.3.1\n",
      "[notice] To update, run: C:\\Users\\vjfr\\AppData\\Local\\Microsoft\\WindowsApps\\PythonSoftwareFoundation.Python.3.11_qbz5n2kfra8p0\\python.exe -m pip install --upgrade pip\n"
     ]
    }
   ],
   "source": [
    "# Caso precise, eis o Ambiente\n",
    "\n",
    "!pip install numpy"
   ]
  }
 ],
 "metadata": {
  "kernelspec": {
   "display_name": "Python 3",
   "language": "python",
   "name": "python3"
  },
  "language_info": {
   "codemirror_mode": {
    "name": "ipython",
    "version": 3
   },
   "file_extension": ".py",
   "mimetype": "text/x-python",
   "name": "python",
   "nbconvert_exporter": "python",
   "pygments_lexer": "ipython3",
   "version": "3.11.7"
  }
 },
 "nbformat": 4,
 "nbformat_minor": 2
}
