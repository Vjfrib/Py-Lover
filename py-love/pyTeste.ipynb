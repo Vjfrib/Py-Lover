{
 "cells": [
  {
   "cell_type": "markdown",
   "metadata": {},
   "source": [
    "# Resumo Python\n",
    "\n",
    "- O python é uma...\n",
    "    Python é o sistema (Upper case)\n",
    "    python deve ser a linguagem (Low case)\n",
    "\n",
    "o sistema que roda, normalmente é \n",
    "## interpretado\n",
    "(posso até screver errado, mas ele interprta bem as possibilidades)\n",
    "Nem \"dot comma ;\" usa!\n",
    "\n",
    "## Não é tipado\n",
    "tem nem nome. vc só diz o identificador e dá um valor. qndo precisar.\n",
    "> Não se declara var;\n",
    "\n",
    "### tem versões...\n",
    "feitas com C ANSI (C lang), python de java... python de python\n",
    "Atualmente o ^^Python está na 3.11.7"
   ]
  },
  {
   "cell_type": "code",
   "execution_count": 4,
   "metadata": {},
   "outputs": [
    {
     "data": {
      "text/plain": [
       "13"
      ]
     },
     "execution_count": 4,
     "metadata": {},
     "output_type": "execute_result"
    }
   ],
   "source": [
    "a = 13\n",
    "a"
   ]
  },
  {
   "cell_type": "markdown",
   "metadata": {},
   "source": [
    "Com uma var, vc só escreve ela e cabô"
   ]
  },
  {
   "cell_type": "markdown",
   "metadata": {},
   "source": [
    "se vc n escrever..."
   ]
  },
  {
   "cell_type": "code",
   "execution_count": 5,
   "metadata": {},
   "outputs": [],
   "source": [
    "a = 15"
   ]
  },
  {
   "cell_type": "markdown",
   "metadata": {},
   "source": [
    "Nada acontece ele somente interpreta, depois compila, mas nada exibe"
   ]
  },
  {
   "cell_type": "markdown",
   "metadata": {},
   "source": [
    "# Entradas\n",
    "\n",
    "a mais básica: _**print**_. \n",
    "\n",
    "---\n",
    "Tem algumas variações tbm.\n",
    "tem saidas super complexas tbm como mathplot (pra graficos) e a do pandas (para tabelas)"
   ]
  }
 ],
 "metadata": {
  "kernelspec": {
   "display_name": "Python 3",
   "language": "python",
   "name": "python3"
  },
  "language_info": {
   "codemirror_mode": {
    "name": "ipython",
    "version": 3
   },
   "file_extension": ".py",
   "mimetype": "text/x-python",
   "name": "python",
   "nbconvert_exporter": "python",
   "pygments_lexer": "ipython3",
   "version": "3.11.7"
  }
 },
 "nbformat": 4,
 "nbformat_minor": 2
}
