{
  "nbformat": 4,
  "nbformat_minor": 0,
  "metadata": {
    "colab": {
      "provenance": [],
      "include_colab_link": true
    },
    "kernelspec": {
      "name": "python3",
      "display_name": "Python 3"
    },
    "language_info": {
      "name": "python"
    }
  },
  "cells": [
    {
      "cell_type": "markdown",
      "metadata": {
        "id": "view-in-github",
        "colab_type": "text"
      },
      "source": [
        "<a href=\"https://colab.research.google.com/github/Vjfrib/Py-Lover/blob/main/C%C3%B3pia_de_Desafios!!!.ipynb\" target=\"_parent\"><img src=\"https://colab.research.google.com/assets/colab-badge.svg\" alt=\"Open In Colab\"/></a>"
      ]
    },
    {
      "cell_type": "code",
      "execution_count": null,
      "metadata": {
        "id": "_ANYNeYedAkG",
        "outputId": "52964284-be4d-455c-c9a1-02a56c900cd4",
        "colab": {
          "base_uri": "https://localhost:8080/"
        }
      },
      "outputs": [
        {
          "output_type": "stream",
          "name": "stdout",
          "text": [
            "4\n",
            "2\n"
          ]
        }
      ],
      "source": [
        "# prompt: chat, gere uma celula com um desafio du huxley e seu codigo resposta\n",
        "\n",
        "# -*- coding: utf-8 -*-\n",
        "\"\"\"\n",
        "Desafio:\n",
        "\n",
        "Dado um número natural N, retorne o maior número inteiro K tal que K é um divisor de N e K é menor ou igual a N/2.\n",
        "\n",
        "Entrada:\n",
        "\n",
        "A entrada é um único inteiro N.\n",
        "\n",
        "Saída:\n",
        "\n",
        "A saída deve ser um único inteiro, o maior divisor de N menor ou igual a N/2.\n",
        "\n",
        "Exemplos:\n",
        "\n",
        "Entrada: 12\n",
        "Saída: 6\n",
        "\n",
        "Entrada: 100\n",
        "Saída: 50\n",
        "\n",
        "Entrada: 1\n",
        "Saída: 1\n",
        "\"\"\"\n",
        "\n",
        "\n",
        "def main():\n",
        "    n = int(input())\n",
        "    if n == 1:\n",
        "        print(1)\n",
        "        return\n",
        "    for i in range(n // 2, 0, -1):\n",
        "        if n % i == 0:\n",
        "            print(i)\n",
        "            return\n",
        "\n",
        "\n",
        "if __name__ == \"__main__\":\n",
        "    main()\n"
      ]
    },
    {
      "cell_type": "markdown",
      "source": [
        "Rapaz, essa IA do Colab é Louca!"
      ],
      "metadata": {
        "id": "hOaiZXxtdfUX"
      }
    },
    {
      "cell_type": "code",
      "source": [
        "# prompt: print hello world using rot13\n",
        "\n",
        "print(\"Gur Mhfr Zneeba Zbgure vf Zneeba Zbgure\".translate(str.maketrans('A-Za-z', 'N-ZA-Mn-za-m')))\n"
      ],
      "metadata": {
        "id": "oBEpzpB7diHo",
        "outputId": "6f2d6e4f-9c6b-43ef-c0eb-e1c6d64230a2",
        "colab": {
          "base_uri": "https://localhost:8080/",
          "height": 210
        }
      },
      "execution_count": null,
      "outputs": [
        {
          "output_type": "error",
          "ename": "ValueError",
          "evalue": "ignored",
          "traceback": [
            "\u001b[0;31m---------------------------------------------------------------------------\u001b[0m",
            "\u001b[0;31mValueError\u001b[0m                                Traceback (most recent call last)",
            "\u001b[0;32m<ipython-input-2-fbce96b29c26>\u001b[0m in \u001b[0;36m<cell line: 3>\u001b[0;34m()\u001b[0m\n\u001b[1;32m      1\u001b[0m \u001b[0;31m# prompt: print hello world using rot13\u001b[0m\u001b[0;34m\u001b[0m\u001b[0;34m\u001b[0m\u001b[0m\n\u001b[1;32m      2\u001b[0m \u001b[0;34m\u001b[0m\u001b[0m\n\u001b[0;32m----> 3\u001b[0;31m \u001b[0mprint\u001b[0m\u001b[0;34m(\u001b[0m\u001b[0;34m\"Gur Mhfr Zneeba Zbgure vf Zneeba Zbgure\"\u001b[0m\u001b[0;34m.\u001b[0m\u001b[0mtranslate\u001b[0m\u001b[0;34m(\u001b[0m\u001b[0mstr\u001b[0m\u001b[0;34m.\u001b[0m\u001b[0mmaketrans\u001b[0m\u001b[0;34m(\u001b[0m\u001b[0;34m'A-Za-z'\u001b[0m\u001b[0;34m,\u001b[0m \u001b[0;34m'N-ZA-Mn-za-m'\u001b[0m\u001b[0;34m)\u001b[0m\u001b[0;34m)\u001b[0m\u001b[0;34m)\u001b[0m\u001b[0;34m\u001b[0m\u001b[0;34m\u001b[0m\u001b[0m\n\u001b[0m",
            "\u001b[0;31mValueError\u001b[0m: the first two maketrans arguments must have equal length"
          ]
        }
      ]
    },
    {
      "cell_type": "markdown",
      "source": [
        "Certo, não entendi mas ela corrige até os erros"
      ],
      "metadata": {
        "id": "wTBmBezSd2ql"
      }
    },
    {
      "cell_type": "code",
      "source": [],
      "metadata": {
        "id": "3-5s0q80eWX3"
      },
      "execution_count": null,
      "outputs": []
    }
  ]
}