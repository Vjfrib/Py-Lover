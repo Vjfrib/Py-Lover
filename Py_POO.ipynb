{
  "nbformat": 4,
  "nbformat_minor": 0,
  "metadata": {
    "colab": {
      "provenance": [],
      "authorship_tag": "ABX9TyMqjzjy6QfvyId92nNVEAAV",
      "include_colab_link": true
    },
    "kernelspec": {
      "name": "python3",
      "display_name": "Python 3"
    },
    "language_info": {
      "name": "python"
    }
  },
  "cells": [
    {
      "cell_type": "markdown",
      "metadata": {
        "id": "view-in-github",
        "colab_type": "text"
      },
      "source": [
        "<a href=\"https://colab.research.google.com/github/Vjfrib/Py-Lover/blob/main/Py_POO.ipynb\" target=\"_parent\"><img src=\"https://colab.research.google.com/assets/colab-badge.svg\" alt=\"Open In Colab\"/></a>"
      ]
    },
    {
      "cell_type": "markdown",
      "source": [
        "# Resumo de POO com Python\n",
        "\n"
      ],
      "metadata": {
        "id": "cnuFrJ56Z8EO"
      }
    },
    {
      "cell_type": "markdown",
      "source": [
        "## Diferença entre POO e PI (imperativa, procedural...)"
      ],
      "metadata": {
        "id": "JbhsOtngaClV"
      }
    },
    {
      "cell_type": "code",
      "execution_count": null,
      "metadata": {
        "id": "kbWN3SB3ZytK"
      },
      "outputs": [],
      "source": []
    }
  ]
}